{
  "nbformat": 4,
  "nbformat_minor": 0,
  "metadata": {
    "colab": {
      "provenance": [],
      "authorship_tag": "ABX9TyM5m3vl3WAMNXTqz9jIsciH",
      "include_colab_link": true
    },
    "kernelspec": {
      "name": "python3",
      "display_name": "Python 3"
    },
    "language_info": {
      "name": "python"
    }
  },
  "cells": [
    {
      "cell_type": "markdown",
      "metadata": {
        "id": "view-in-github",
        "colab_type": "text"
      },
      "source": [
        "<a href=\"https://colab.research.google.com/github/Paola2205/CursoIA/blob/main/Resumen1.ipynb\" target=\"_parent\"><img src=\"https://colab.research.google.com/assets/colab-badge.svg\" alt=\"Open In Colab\"/></a>"
      ]
    },
    {
      "cell_type": "markdown",
      "source": [
        "**Tipos de metodos de IAs**\n",
        "*   Supervisado: Aprende a partir de entradas con salidas correctas, como clasificar spam\n",
        "*   No supervisado: Busca patrones o estructuras, explora datos no clasificados\n",
        "*   Por esfuerzo: Aprende a traves de prueba y error, requiere muchos intentos para aprender.\n",
        "\n",
        "**¿Qué tipo de aprendizaje sería ideal para predecir la deserción estudiantil en una universidad? ¿Por qué?**\n",
        "\n",
        "Podria ser un aprendizaje supervisado ya que se le dan las calificaciones y ayuda a ver si hay riesgo de desercion (estos con clasificados ya que se le puede indicar cuales son calificaciones reprobatorias y cuales no)"
      ],
      "metadata": {
        "id": "rOFoG7Mmt5iJ"
      }
    }
  ]
}